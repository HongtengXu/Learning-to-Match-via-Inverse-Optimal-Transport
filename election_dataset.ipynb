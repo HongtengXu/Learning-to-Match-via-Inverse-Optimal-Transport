{
 "cells": [
  {
   "cell_type": "code",
   "execution_count": 4,
   "metadata": {},
   "outputs": [
    {
     "name": "stderr",
     "output_type": "stream",
     "text": [
      "UsageError: Line magic function `%matploblib` not found.\n"
     ]
    }
   ],
   "source": [
    "%matploblib inline\n",
    "import numpy as np\n",
    "import pandas as pd\n",
    "import matplotlib.pyplot as plt\n",
    "from Matcher import train_parameters, model_parameters, Matcher\n",
    "import ot"
   ]
  },
  {
   "cell_type": "code",
   "execution_count": null,
   "metadata": {},
   "outputs": [],
   "source": [
    "FlData = pd.read_csv('Fl_Data.csv', usecols = ['District', 'County','Voters_Age', 'Voters_Gender', 'PID', 'vote08', \n",
    "                    'SR.WHI', 'SR.BLA', 'SR.HIS', 'SR.ASI', 'SR.NAT', 'SR.OTH']) \n",
    "\n",
    "FlData = FlData.dropna()"
   ]
  },
  {
   "cell_type": "markdown",
   "metadata": {},
   "source": [
    "### Data Preprocessing"
   ]
  },
  {
   "cell_type": "code",
   "execution_count": null,
   "metadata": {},
   "outputs": [],
   "source": [
    "# Use 0-1 encoding for gender\n",
    "FlData['Voters_Gender'] = FlData['Voters_Gender'].map({'M': 1, 'F': 0})\n",
    "\n",
    "# Normalize age to [0, 1]\n",
    "FlData['Voters_Age'] = ((FlData['Voters_Age'] -\n",
    "                         FlData['Voters_Age'].min()) /\n",
    "                        (FlData['Voters_Age'].max() -\n",
    "                         FlData['Voters_Age'].min()))\n",
    "\n",
    "# Get one hot encoding of column PID\n",
    "one_hot = pd.get_dummies(FlData['PID'])\n",
    "\n",
    "# Drop column PID as it is now encoded\n",
    "FlData = FlData.drop('PID', axis=1)\n",
    "\n",
    "# Join the encoded df\n",
    "FlData = FlData.join(one_hot)\n",
    "\n",
    "# Rename the new columns\n",
    "FlData.rename(columns={0: 'Other', 1: 'Democrat', 2: 'Republican'},\n",
    "              inplace=True)\n"
   ]
  },
  {
   "cell_type": "code",
   "execution_count": null,
   "metadata": {},
   "outputs": [],
   "source": [
    "# Set SR.OTH as (SR.OTH or SR.NAT)\n",
    "FlData['SR.OTH'] = (FlData['SR.OTH'] + FlData['SR.NAT']) > 0\n",
    "FlData['SR.OTH'] = FlData['SR.OTH'].astype(float)\n",
    "FlData.drop('SR.NAT', axis=1, inplace=True)\n",
    "FlData.head()"
   ]
  },
  {
   "cell_type": "code",
   "execution_count": null,
   "metadata": {},
   "outputs": [],
   "source": [
    "FlData.describe()"
   ]
  },
  {
   "cell_type": "markdown",
   "metadata": {},
   "source": [
    "### Compute Each Ethnicity's Profile"
   ]
  },
  {
   "cell_type": "code",
   "execution_count": null,
   "metadata": {},
   "outputs": [],
   "source": [
    "ethnicities = ['WHI', 'BLA', 'HIS', 'ASI', 'OTH']\n",
    "profile = []\n",
    "for ethnicity in ethnicities:\n",
    "    profile.append(np.mean(FlData[FlData['SR.' + ethnicity] == 1.0]))\n",
    "    profile[-1].drop(['District', 'County'], inplace=True)\n",
    "    profile[-1] = profile[-1].as_matrix()"
   ]
  },
  {
   "cell_type": "code",
   "execution_count": null,
   "metadata": {},
   "outputs": [],
   "source": [
    "print(profile)"
   ]
  },
  {
   "cell_type": "markdown",
   "metadata": {},
   "source": [
    "### Compute Sample Matching Matrix"
   ]
  },
  {
   "cell_type": "code",
   "execution_count": null,
   "metadata": {},
   "outputs": [],
   "source": [
    "#           Other Democrat Republican\n",
    "# White     0.38    0.26     0.35 \n",
    "# Black     0.29    0.64     0.05\n",
    "# Hispanic  0.50    0.32     0.13\n",
    "# Asian     0.46    0.36     0.17\n",
    "# Other     0.49    0.32     0.18\n",
    "\n",
    "\n",
    "# Demographic of Florida\n",
    "# White:     60.1%\n",
    "# Black:     17.0%\n",
    "# Hispanic:  20.0%\n",
    "# Asian:     2.1%\n",
    "# Other:     0.8%\n",
    "\n",
    "percentages = [0.601, 0.17, 0.2, 0.021, 0.008]\n",
    "pi_sample = np.array([\n",
    "               [.38, .26, .35],\n",
    "               [.29, .64, .05],\n",
    "               [.50, .32, .13],\n",
    "               [.46, .36, .17],\n",
    "               [.49, .32, .18]\n",
    "               ])\n",
    "for i, percent in enumerate(percentages):\n",
    "    pi_sample[i] /= np.sum(pi_sample[i])\n",
    "    pi_sample[i] *= percent"
   ]
  },
  {
   "cell_type": "code",
   "execution_count": null,
   "metadata": {},
   "outputs": [],
   "source": [
    "U = np.array(profile).T\n",
    "V = np.eye(3)\n",
    "\n",
    "p, m = U.shape\n",
    "q, n = V.shape\n",
    "r = 5\n",
    "\n",
    "seed = 3\n",
    "rng = np.random.RandomState(seed)\n",
    "G0 = rng.rand(r, p)\n",
    "D0 = rng.rand(r, q)\n",
    "A0 = np.dot(G0.T, D0)\n",
    "\n",
    "model = Matcher(pi_sample=pi_sample, U0=U, V0=V, r=r)\n",
    "\n",
    "train_param = train_parameters(max_outer_iteration=200, max_inner_iteration=20, learning_rate=1)\n",
    "model_param = model_parameters(A0=A0, gamma=0.2, const=1, degree=2, lam=1.0, lambda_mu=1.0, lambda_nu=1.0, delta=0.005)\n",
    "\n",
    "C, A, pi = model.riot(model_param=model_param, train_param=train_param)\n",
    "\n",
    "xtick = range(0, 3)\n",
    "xlabel = ['Other', 'Democrat', 'Republican']\n",
    "ytick = range(0, 5)\n",
    "ylabel = ['White', 'Black', 'Hispanic', 'Asian', 'Other']\n",
    "ztick = range(0, 11)\n",
    "zlabel = ['Age', 'Gender', 'Vote08', 'White', 'Black', 'Hispanic', 'Asian', 'Other Race', 'Other', 'Democrat', 'Republican']\n",
    "\n",
    "f, ax = plt.subplots(1, 1, figsize=(16,3))\n",
    "cax = ax.imshow(A.T, cmap=plt.cm.Greens)\n",
    "ax.title.set_text('leanrned interaction matrix')\n",
    "ax.set_xticks(ztick)\n",
    "ax.set_yticks(xtick)\n",
    "ax.set_xticklabels(zlabel)\n",
    "ax.set_yticklabels(xlabel)\n",
    "f.colorbar(cax, ax=ax)"
   ]
  }
 ],
 "metadata": {
  "kernelspec": {
   "display_name": "Python 3",
   "language": "python",
   "name": "python3"
  },
  "language_info": {
   "codemirror_mode": {
    "name": "ipython",
    "version": 3
   },
   "file_extension": ".py",
   "mimetype": "text/x-python",
   "name": "python",
   "nbconvert_exporter": "python",
   "pygments_lexer": "ipython3",
   "version": "3.6.4"
  }
 },
 "nbformat": 4,
 "nbformat_minor": 2
}
